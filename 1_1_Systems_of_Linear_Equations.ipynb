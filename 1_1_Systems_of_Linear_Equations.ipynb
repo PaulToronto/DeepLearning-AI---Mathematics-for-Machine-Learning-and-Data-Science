{
  "nbformat": 4,
  "nbformat_minor": 0,
  "metadata": {
    "colab": {
      "provenance": [],
      "toc_visible": true,
      "authorship_tag": "ABX9TyMW4iw3MQ38u++qBtCw1OZr",
      "include_colab_link": true
    },
    "kernelspec": {
      "name": "python3",
      "display_name": "Python 3"
    },
    "language_info": {
      "name": "python"
    }
  },
  "cells": [
    {
      "cell_type": "markdown",
      "metadata": {
        "id": "view-in-github",
        "colab_type": "text"
      },
      "source": [
        "<a href=\"https://colab.research.google.com/github/PaulToronto/DeepLearning-AI---Mathematics-for-Machine-Learning-and-Data-Science/blob/main/1_1_Systems_of_Linear_Equations.ipynb\" target=\"_parent\"><img src=\"https://colab.research.google.com/assets/colab-badge.svg\" alt=\"Open In Colab\"/></a>"
      ]
    },
    {
      "cell_type": "markdown",
      "source": [
        "# 1.1 Systems of LInear Equations\n",
        "\n",
        "\n",
        "\n"
      ],
      "metadata": {
        "id": "kpUWjnUX6iJP"
      }
    },
    {
      "cell_type": "markdown",
      "source": [
        "## 1.1.1 Specialization and Course Introduction"
      ],
      "metadata": {
        "id": "UpfEn5pj6rfG"
      }
    },
    {
      "cell_type": "markdown",
      "source": [
        "### 1.1.1.1 Specialization Introduction\n",
        "\n",
        "- Instructor's YouTube channel: https://www.youtube.com/@SerranoAcademy/featured\n",
        "- Instructor's Book: https://learning.oreilly.com/library/view/grokking-machine-learning/9781617295911/Text/ifc.xhtml\n",
        "- Forum: https://community.deeplearning.ai/?utm_campaign=forum-engagement&utm_medium=long-form-courses&utm_source=coursera"
      ],
      "metadata": {
        "id": "1tPSWitZ60eU"
      }
    },
    {
      "cell_type": "markdown",
      "source": [
        "### 1.1.1.2 Notations\n",
        "\n",
        "- Matrices: $A, B, C$\n",
        "- Vectors: $u, v, w$\n",
        "- Matrix $A$ has $m$ rows and $n$ columns: $A$ of size $m \\times n$\n",
        "- Transpose of matrix $A$: $A^{T}$\n",
        "- Transpose of vector $v$: $v^{T}$\n",
        "- Inverse of matrix $A$: $A^{-1}$\n",
        "- Determinant of matrix $A$: $\\det{(A)}$\n",
        "- Matrix multiplication $AB$\n",
        "- Dot product of vectors $u$ and $v$: $u \\cdot v$ ; $\\langle u,v \\rangle$\n",
        "- The set of real numbers: $\\mathbb{R}$\n",
        "- The set of two-dimensional vectors, example $[1,3]^{T}$: $\\mathbb{R}^{2}$\n",
        "- The set of n-dimensional vectors: $\\mathbb{R}^{n}$\n",
        "- Vector $v$ is an element of $\\mathbb{R}^{2}$: $v \\in \\mathbb{R}^{2}$\n",
        "- L1-norm of a vector: $\\lvert v\\rvert_{1}$\n",
        "- L2-norm of a vector: $\\lvert v\\rvert_{2}$ ; $\\lvert v \\rvert$ ; $\\lVert v \\rVert$\n",
        "- Tranformation $T$ of a vector $v \\in \\mathbb{R}^{2}$ into the vector $w \\in \\mathbb{R}^{3}$: $T : \\mathbb{R}^{2} \\rightarrow \\mathbb{R}^{3}$ ; $T\\left(v\\right) = w$"
      ],
      "metadata": {
        "id": "3IOdxLJ0Dbf6"
      }
    },
    {
      "cell_type": "markdown",
      "source": [
        "## 1.1.2 Systems of Equations"
      ],
      "metadata": {
        "id": "6fxB2Y_MIPMk"
      }
    },
    {
      "cell_type": "markdown",
      "source": [
        "### 1.1.2.1 Linear Algebra Applied I\n",
        "\n",
        "- Linear regression assumes a linear relationship between the variables\n",
        "- The goal of linear regression is to find the line of best fit for the data, in other words, to find the value for $w$ and $b$\n",
        "\n",
        "$$\n",
        "y = wx + b\n",
        "$$\n",
        "\n",
        "- $w$ is called a **weight**\n",
        "- $b$ is called a **bias**\n",
        "- The equation changes as we add features\n",
        "- It is also not a line anymore, but a plane in 3-dimensional space\n",
        "\n",
        "$$\n",
        "y = w_{1}x_{1} + w_{2}x_{2} + b\n",
        "$$\n",
        "\n",
        "- We can add even more features:\n",
        "\n",
        "$$\n",
        "w_{1}x_{1} + w_{2}x_{2} + w_{3}x_{3} + w_{4}x_{4} + b = y\n",
        "$$\n",
        "\n",
        "- Now we have a **hyperplane**\n",
        "- $y$ is the **target**\n",
        "- The equation corresponds to one row in a dataset\n",
        "    - The $x$ values and value for $y$ are known, from the dataset, the goal is to find the $w$ values and the value for $b$\n",
        "- How is the entire dataset represented?\n",
        "\n",
        "$$\n",
        "\\begin{align}\n",
        "w_{1}x_{1}^{(1)} + w_{2}x_{2}^{(1)} + \\cdots + w_{n}x_{n}^{(1)} + b &= y^{(1)} \\\\\n",
        "w_{1}x_{1}^{(2)} + w_{2}x_{2}^{(2)} + \\cdots + w_{n}x_{n}^{(2)} + b &= y^{(2)} \\\\\n",
        "\\vdots \\\\\n",
        "w_{1}x_{1}^{(m)} + w_{2}x_{2}^{(m)} + \\cdots + w_{n}x_{n}^{(m)} + b &= y^{(m)}\n",
        "\\end{align}\n",
        "$$\n",
        "\n",
        "- And that is a **system of linear equations**"
      ],
      "metadata": {
        "id": "cRb0NCGiJcNL"
      }
    }
  ]
}