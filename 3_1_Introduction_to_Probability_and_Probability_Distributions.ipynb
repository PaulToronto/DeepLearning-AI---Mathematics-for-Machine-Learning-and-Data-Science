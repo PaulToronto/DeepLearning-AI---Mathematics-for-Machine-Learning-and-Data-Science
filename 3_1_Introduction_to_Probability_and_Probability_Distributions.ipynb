{
  "nbformat": 4,
  "nbformat_minor": 0,
  "metadata": {
    "colab": {
      "provenance": [],
      "toc_visible": true,
      "authorship_tag": "ABX9TyNOwMm5OfiVaQyP9jcpE+MY",
      "include_colab_link": true
    },
    "kernelspec": {
      "name": "python3",
      "display_name": "Python 3"
    },
    "language_info": {
      "name": "python"
    }
  },
  "cells": [
    {
      "cell_type": "markdown",
      "metadata": {
        "id": "view-in-github",
        "colab_type": "text"
      },
      "source": [
        "<a href=\"https://colab.research.google.com/github/PaulToronto/DeepLearning-AI---Mathematics-for-Machine-Learning-and-Data-Science/blob/main/3_1_Introduction_to_Probability_and_Probability_Distributions.ipynb\" target=\"_parent\"><img src=\"https://colab.research.google.com/assets/colab-badge.svg\" alt=\"Open In Colab\"/></a>"
      ]
    },
    {
      "cell_type": "markdown",
      "source": [
        "# 3.1 Introduction to Probability and Probability Distributions"
      ],
      "metadata": {
        "id": "6C8Aa9fW2j38"
      }
    },
    {
      "cell_type": "markdown",
      "source": [
        "## Imports"
      ],
      "metadata": {
        "id": "ie7-cHT3FTqM"
      }
    },
    {
      "cell_type": "code",
      "source": [
        "import pandas as pd"
      ],
      "metadata": {
        "id": "k5e-OUmRFUtt"
      },
      "execution_count": 1,
      "outputs": []
    },
    {
      "cell_type": "markdown",
      "source": [
        "## 3.1.1 Introduction to Probability"
      ],
      "metadata": {
        "id": "o9018kBArbvx"
      }
    },
    {
      "cell_type": "markdown",
      "source": [
        "### 3.1.1.1 What is Probability?\n",
        "\n",
        "**Probability** is a measure of how likely and event is to occur.\n",
        "\n"
      ],
      "metadata": {
        "id": "XvHLZogs2wJc"
      }
    },
    {
      "cell_type": "markdown",
      "source": [
        "#### Example\n",
        "\n",
        "You are in a school with 10 kids and you randomly pick a kid. 3 of them play soccer and 7 of them don't. What is the probability that you will pick a kid who plays soccer?\n",
        "\n",
        "$$\n",
        "\\mathbb{P}\\left(\\text{soccer}\\right) = \\frac{\\text{soccer}}{\\text{total}} = \\frac{3}{10} = 0.3\n",
        "$$\n",
        "\n",
        "The numerator corresponds to the **event**, that's the size of the event. The denominatory corresponds to the size of the **sample space**, the total number of possible outcomes.\n",
        "\n",
        "Here is a Venn diagram:\n",
        "\n",
        "<img src='https://raw.githubusercontent.com/PaulToronto/DeepLearning-AI---Mathematics-for-Machine-Learning-and-Data-Science/refs/heads/main/images/venn.png'/>"
      ],
      "metadata": {
        "id": "JK9SgI_k7lpp"
      }
    },
    {
      "cell_type": "markdown",
      "source": [
        "#### Example\n",
        "\n",
        "In probability, an **experiment** is an process that produces an outcome that is uncertain. A coin toss is an experiment. The coin is **fair**, meaning Heads and Tails are equally likely.\n",
        "\n",
        "$$\n",
        "\\mathbb{P}\\left(\\text{heads}\\right) = \\frac{1}{2} = 0.5\n",
        "$$\n",
        "\n",
        "If we toss two coins, what is the probablity that both of them will be heads?\n",
        "\n",
        "This experiment has 4 possible outcomes as shown here:\n",
        "\n",
        "<img src='https://raw.githubusercontent.com/PaulToronto/DeepLearning-AI---Mathematics-for-Machine-Learning-and-Data-Science/refs/heads/main/images/four.png'/>\n",
        "\n",
        "The probablity is calculated as follows:\n",
        "\n",
        "$$\n",
        "\\mathbb{P}\\left(\\text{HH}\\right) = \\frac{1}{4} = 0.25\n",
        "$$\n",
        "\n",
        "What is $\\mathbb{P}\\left(\\text{HHH}\\right)$ when we have 3 coins?\n",
        "\n",
        "We know there are $2^3 = 8$ possible outcomes, so we can construct the following table:\n",
        "\n"
      ],
      "metadata": {
        "id": "1eucibIOAXJa"
      }
    },
    {
      "cell_type": "code",
      "source": [
        "three_coins = pd.DataFrame({\n",
        "    'coin_1': ['H', 'H', 'H', 'H', 'T', 'T', 'T', 'T'],\n",
        "    'coin_2': ['H', 'H', 'T', 'T', 'H', 'H', 'T', 'T'],\n",
        "    'coin_3': ['H', 'T', 'H', 'T', 'H', 'T', 'H', 'T']\n",
        "})\n",
        "\n",
        "three_coins"
      ],
      "metadata": {
        "colab": {
          "base_uri": "https://localhost:8080/",
          "height": 300
        },
        "id": "X--V0WRwFSb0",
        "outputId": "e8c284ad-d851-463e-f1a1-0ae2e9abfdde"
      },
      "execution_count": 2,
      "outputs": [
        {
          "output_type": "execute_result",
          "data": {
            "text/plain": [
              "  coin_1 coin_2 coin_3\n",
              "0      H      H      H\n",
              "1      H      H      T\n",
              "2      H      T      H\n",
              "3      H      T      T\n",
              "4      T      H      H\n",
              "5      T      H      T\n",
              "6      T      T      H\n",
              "7      T      T      T"
            ],
            "text/html": [
              "\n",
              "  <div id=\"df-6da94518-3514-4273-bfa4-c1a5657079ec\" class=\"colab-df-container\">\n",
              "    <div>\n",
              "<style scoped>\n",
              "    .dataframe tbody tr th:only-of-type {\n",
              "        vertical-align: middle;\n",
              "    }\n",
              "\n",
              "    .dataframe tbody tr th {\n",
              "        vertical-align: top;\n",
              "    }\n",
              "\n",
              "    .dataframe thead th {\n",
              "        text-align: right;\n",
              "    }\n",
              "</style>\n",
              "<table border=\"1\" class=\"dataframe\">\n",
              "  <thead>\n",
              "    <tr style=\"text-align: right;\">\n",
              "      <th></th>\n",
              "      <th>coin_1</th>\n",
              "      <th>coin_2</th>\n",
              "      <th>coin_3</th>\n",
              "    </tr>\n",
              "  </thead>\n",
              "  <tbody>\n",
              "    <tr>\n",
              "      <th>0</th>\n",
              "      <td>H</td>\n",
              "      <td>H</td>\n",
              "      <td>H</td>\n",
              "    </tr>\n",
              "    <tr>\n",
              "      <th>1</th>\n",
              "      <td>H</td>\n",
              "      <td>H</td>\n",
              "      <td>T</td>\n",
              "    </tr>\n",
              "    <tr>\n",
              "      <th>2</th>\n",
              "      <td>H</td>\n",
              "      <td>T</td>\n",
              "      <td>H</td>\n",
              "    </tr>\n",
              "    <tr>\n",
              "      <th>3</th>\n",
              "      <td>H</td>\n",
              "      <td>T</td>\n",
              "      <td>T</td>\n",
              "    </tr>\n",
              "    <tr>\n",
              "      <th>4</th>\n",
              "      <td>T</td>\n",
              "      <td>H</td>\n",
              "      <td>H</td>\n",
              "    </tr>\n",
              "    <tr>\n",
              "      <th>5</th>\n",
              "      <td>T</td>\n",
              "      <td>H</td>\n",
              "      <td>T</td>\n",
              "    </tr>\n",
              "    <tr>\n",
              "      <th>6</th>\n",
              "      <td>T</td>\n",
              "      <td>T</td>\n",
              "      <td>H</td>\n",
              "    </tr>\n",
              "    <tr>\n",
              "      <th>7</th>\n",
              "      <td>T</td>\n",
              "      <td>T</td>\n",
              "      <td>T</td>\n",
              "    </tr>\n",
              "  </tbody>\n",
              "</table>\n",
              "</div>\n",
              "    <div class=\"colab-df-buttons\">\n",
              "\n",
              "  <div class=\"colab-df-container\">\n",
              "    <button class=\"colab-df-convert\" onclick=\"convertToInteractive('df-6da94518-3514-4273-bfa4-c1a5657079ec')\"\n",
              "            title=\"Convert this dataframe to an interactive table.\"\n",
              "            style=\"display:none;\">\n",
              "\n",
              "  <svg xmlns=\"http://www.w3.org/2000/svg\" height=\"24px\" viewBox=\"0 -960 960 960\">\n",
              "    <path d=\"M120-120v-720h720v720H120Zm60-500h600v-160H180v160Zm220 220h160v-160H400v160Zm0 220h160v-160H400v160ZM180-400h160v-160H180v160Zm440 0h160v-160H620v160ZM180-180h160v-160H180v160Zm440 0h160v-160H620v160Z\"/>\n",
              "  </svg>\n",
              "    </button>\n",
              "\n",
              "  <style>\n",
              "    .colab-df-container {\n",
              "      display:flex;\n",
              "      gap: 12px;\n",
              "    }\n",
              "\n",
              "    .colab-df-convert {\n",
              "      background-color: #E8F0FE;\n",
              "      border: none;\n",
              "      border-radius: 50%;\n",
              "      cursor: pointer;\n",
              "      display: none;\n",
              "      fill: #1967D2;\n",
              "      height: 32px;\n",
              "      padding: 0 0 0 0;\n",
              "      width: 32px;\n",
              "    }\n",
              "\n",
              "    .colab-df-convert:hover {\n",
              "      background-color: #E2EBFA;\n",
              "      box-shadow: 0px 1px 2px rgba(60, 64, 67, 0.3), 0px 1px 3px 1px rgba(60, 64, 67, 0.15);\n",
              "      fill: #174EA6;\n",
              "    }\n",
              "\n",
              "    .colab-df-buttons div {\n",
              "      margin-bottom: 4px;\n",
              "    }\n",
              "\n",
              "    [theme=dark] .colab-df-convert {\n",
              "      background-color: #3B4455;\n",
              "      fill: #D2E3FC;\n",
              "    }\n",
              "\n",
              "    [theme=dark] .colab-df-convert:hover {\n",
              "      background-color: #434B5C;\n",
              "      box-shadow: 0px 1px 3px 1px rgba(0, 0, 0, 0.15);\n",
              "      filter: drop-shadow(0px 1px 2px rgba(0, 0, 0, 0.3));\n",
              "      fill: #FFFFFF;\n",
              "    }\n",
              "  </style>\n",
              "\n",
              "    <script>\n",
              "      const buttonEl =\n",
              "        document.querySelector('#df-6da94518-3514-4273-bfa4-c1a5657079ec button.colab-df-convert');\n",
              "      buttonEl.style.display =\n",
              "        google.colab.kernel.accessAllowed ? 'block' : 'none';\n",
              "\n",
              "      async function convertToInteractive(key) {\n",
              "        const element = document.querySelector('#df-6da94518-3514-4273-bfa4-c1a5657079ec');\n",
              "        const dataTable =\n",
              "          await google.colab.kernel.invokeFunction('convertToInteractive',\n",
              "                                                    [key], {});\n",
              "        if (!dataTable) return;\n",
              "\n",
              "        const docLinkHtml = 'Like what you see? Visit the ' +\n",
              "          '<a target=\"_blank\" href=https://colab.research.google.com/notebooks/data_table.ipynb>data table notebook</a>'\n",
              "          + ' to learn more about interactive tables.';\n",
              "        element.innerHTML = '';\n",
              "        dataTable['output_type'] = 'display_data';\n",
              "        await google.colab.output.renderOutput(dataTable, element);\n",
              "        const docLink = document.createElement('div');\n",
              "        docLink.innerHTML = docLinkHtml;\n",
              "        element.appendChild(docLink);\n",
              "      }\n",
              "    </script>\n",
              "  </div>\n",
              "\n",
              "\n",
              "<div id=\"df-b43d0157-a040-47a7-9747-55b3942a26a4\">\n",
              "  <button class=\"colab-df-quickchart\" onclick=\"quickchart('df-b43d0157-a040-47a7-9747-55b3942a26a4')\"\n",
              "            title=\"Suggest charts\"\n",
              "            style=\"display:none;\">\n",
              "\n",
              "<svg xmlns=\"http://www.w3.org/2000/svg\" height=\"24px\"viewBox=\"0 0 24 24\"\n",
              "     width=\"24px\">\n",
              "    <g>\n",
              "        <path d=\"M19 3H5c-1.1 0-2 .9-2 2v14c0 1.1.9 2 2 2h14c1.1 0 2-.9 2-2V5c0-1.1-.9-2-2-2zM9 17H7v-7h2v7zm4 0h-2V7h2v10zm4 0h-2v-4h2v4z\"/>\n",
              "    </g>\n",
              "</svg>\n",
              "  </button>\n",
              "\n",
              "<style>\n",
              "  .colab-df-quickchart {\n",
              "      --bg-color: #E8F0FE;\n",
              "      --fill-color: #1967D2;\n",
              "      --hover-bg-color: #E2EBFA;\n",
              "      --hover-fill-color: #174EA6;\n",
              "      --disabled-fill-color: #AAA;\n",
              "      --disabled-bg-color: #DDD;\n",
              "  }\n",
              "\n",
              "  [theme=dark] .colab-df-quickchart {\n",
              "      --bg-color: #3B4455;\n",
              "      --fill-color: #D2E3FC;\n",
              "      --hover-bg-color: #434B5C;\n",
              "      --hover-fill-color: #FFFFFF;\n",
              "      --disabled-bg-color: #3B4455;\n",
              "      --disabled-fill-color: #666;\n",
              "  }\n",
              "\n",
              "  .colab-df-quickchart {\n",
              "    background-color: var(--bg-color);\n",
              "    border: none;\n",
              "    border-radius: 50%;\n",
              "    cursor: pointer;\n",
              "    display: none;\n",
              "    fill: var(--fill-color);\n",
              "    height: 32px;\n",
              "    padding: 0;\n",
              "    width: 32px;\n",
              "  }\n",
              "\n",
              "  .colab-df-quickchart:hover {\n",
              "    background-color: var(--hover-bg-color);\n",
              "    box-shadow: 0 1px 2px rgba(60, 64, 67, 0.3), 0 1px 3px 1px rgba(60, 64, 67, 0.15);\n",
              "    fill: var(--button-hover-fill-color);\n",
              "  }\n",
              "\n",
              "  .colab-df-quickchart-complete:disabled,\n",
              "  .colab-df-quickchart-complete:disabled:hover {\n",
              "    background-color: var(--disabled-bg-color);\n",
              "    fill: var(--disabled-fill-color);\n",
              "    box-shadow: none;\n",
              "  }\n",
              "\n",
              "  .colab-df-spinner {\n",
              "    border: 2px solid var(--fill-color);\n",
              "    border-color: transparent;\n",
              "    border-bottom-color: var(--fill-color);\n",
              "    animation:\n",
              "      spin 1s steps(1) infinite;\n",
              "  }\n",
              "\n",
              "  @keyframes spin {\n",
              "    0% {\n",
              "      border-color: transparent;\n",
              "      border-bottom-color: var(--fill-color);\n",
              "      border-left-color: var(--fill-color);\n",
              "    }\n",
              "    20% {\n",
              "      border-color: transparent;\n",
              "      border-left-color: var(--fill-color);\n",
              "      border-top-color: var(--fill-color);\n",
              "    }\n",
              "    30% {\n",
              "      border-color: transparent;\n",
              "      border-left-color: var(--fill-color);\n",
              "      border-top-color: var(--fill-color);\n",
              "      border-right-color: var(--fill-color);\n",
              "    }\n",
              "    40% {\n",
              "      border-color: transparent;\n",
              "      border-right-color: var(--fill-color);\n",
              "      border-top-color: var(--fill-color);\n",
              "    }\n",
              "    60% {\n",
              "      border-color: transparent;\n",
              "      border-right-color: var(--fill-color);\n",
              "    }\n",
              "    80% {\n",
              "      border-color: transparent;\n",
              "      border-right-color: var(--fill-color);\n",
              "      border-bottom-color: var(--fill-color);\n",
              "    }\n",
              "    90% {\n",
              "      border-color: transparent;\n",
              "      border-bottom-color: var(--fill-color);\n",
              "    }\n",
              "  }\n",
              "</style>\n",
              "\n",
              "  <script>\n",
              "    async function quickchart(key) {\n",
              "      const quickchartButtonEl =\n",
              "        document.querySelector('#' + key + ' button');\n",
              "      quickchartButtonEl.disabled = true;  // To prevent multiple clicks.\n",
              "      quickchartButtonEl.classList.add('colab-df-spinner');\n",
              "      try {\n",
              "        const charts = await google.colab.kernel.invokeFunction(\n",
              "            'suggestCharts', [key], {});\n",
              "      } catch (error) {\n",
              "        console.error('Error during call to suggestCharts:', error);\n",
              "      }\n",
              "      quickchartButtonEl.classList.remove('colab-df-spinner');\n",
              "      quickchartButtonEl.classList.add('colab-df-quickchart-complete');\n",
              "    }\n",
              "    (() => {\n",
              "      let quickchartButtonEl =\n",
              "        document.querySelector('#df-b43d0157-a040-47a7-9747-55b3942a26a4 button');\n",
              "      quickchartButtonEl.style.display =\n",
              "        google.colab.kernel.accessAllowed ? 'block' : 'none';\n",
              "    })();\n",
              "  </script>\n",
              "</div>\n",
              "\n",
              "  <div id=\"id_65545351-8bc3-4cf3-8d35-514f28413584\">\n",
              "    <style>\n",
              "      .colab-df-generate {\n",
              "        background-color: #E8F0FE;\n",
              "        border: none;\n",
              "        border-radius: 50%;\n",
              "        cursor: pointer;\n",
              "        display: none;\n",
              "        fill: #1967D2;\n",
              "        height: 32px;\n",
              "        padding: 0 0 0 0;\n",
              "        width: 32px;\n",
              "      }\n",
              "\n",
              "      .colab-df-generate:hover {\n",
              "        background-color: #E2EBFA;\n",
              "        box-shadow: 0px 1px 2px rgba(60, 64, 67, 0.3), 0px 1px 3px 1px rgba(60, 64, 67, 0.15);\n",
              "        fill: #174EA6;\n",
              "      }\n",
              "\n",
              "      [theme=dark] .colab-df-generate {\n",
              "        background-color: #3B4455;\n",
              "        fill: #D2E3FC;\n",
              "      }\n",
              "\n",
              "      [theme=dark] .colab-df-generate:hover {\n",
              "        background-color: #434B5C;\n",
              "        box-shadow: 0px 1px 3px 1px rgba(0, 0, 0, 0.15);\n",
              "        filter: drop-shadow(0px 1px 2px rgba(0, 0, 0, 0.3));\n",
              "        fill: #FFFFFF;\n",
              "      }\n",
              "    </style>\n",
              "    <button class=\"colab-df-generate\" onclick=\"generateWithVariable('three_coins')\"\n",
              "            title=\"Generate code using this dataframe.\"\n",
              "            style=\"display:none;\">\n",
              "\n",
              "  <svg xmlns=\"http://www.w3.org/2000/svg\" height=\"24px\"viewBox=\"0 0 24 24\"\n",
              "       width=\"24px\">\n",
              "    <path d=\"M7,19H8.4L18.45,9,17,7.55,7,17.6ZM5,21V16.75L18.45,3.32a2,2,0,0,1,2.83,0l1.4,1.43a1.91,1.91,0,0,1,.58,1.4,1.91,1.91,0,0,1-.58,1.4L9.25,21ZM18.45,9,17,7.55Zm-12,3A5.31,5.31,0,0,0,4.9,8.1,5.31,5.31,0,0,0,1,6.5,5.31,5.31,0,0,0,4.9,4.9,5.31,5.31,0,0,0,6.5,1,5.31,5.31,0,0,0,8.1,4.9,5.31,5.31,0,0,0,12,6.5,5.46,5.46,0,0,0,6.5,12Z\"/>\n",
              "  </svg>\n",
              "    </button>\n",
              "    <script>\n",
              "      (() => {\n",
              "      const buttonEl =\n",
              "        document.querySelector('#id_65545351-8bc3-4cf3-8d35-514f28413584 button.colab-df-generate');\n",
              "      buttonEl.style.display =\n",
              "        google.colab.kernel.accessAllowed ? 'block' : 'none';\n",
              "\n",
              "      buttonEl.onclick = () => {\n",
              "        google.colab.notebook.generateWithVariable('three_coins');\n",
              "      }\n",
              "      })();\n",
              "    </script>\n",
              "  </div>\n",
              "\n",
              "    </div>\n",
              "  </div>\n"
            ],
            "application/vnd.google.colaboratory.intrinsic+json": {
              "type": "dataframe",
              "variable_name": "three_coins",
              "summary": "{\n  \"name\": \"three_coins\",\n  \"rows\": 8,\n  \"fields\": [\n    {\n      \"column\": \"coin_1\",\n      \"properties\": {\n        \"dtype\": \"category\",\n        \"num_unique_values\": 2,\n        \"samples\": [\n          \"T\",\n          \"H\"\n        ],\n        \"semantic_type\": \"\",\n        \"description\": \"\"\n      }\n    },\n    {\n      \"column\": \"coin_2\",\n      \"properties\": {\n        \"dtype\": \"category\",\n        \"num_unique_values\": 2,\n        \"samples\": [\n          \"T\",\n          \"H\"\n        ],\n        \"semantic_type\": \"\",\n        \"description\": \"\"\n      }\n    },\n    {\n      \"column\": \"coin_3\",\n      \"properties\": {\n        \"dtype\": \"category\",\n        \"num_unique_values\": 2,\n        \"samples\": [\n          \"T\",\n          \"H\"\n        ],\n        \"semantic_type\": \"\",\n        \"description\": \"\"\n      }\n    }\n  ]\n}"
            }
          },
          "metadata": {},
          "execution_count": 2
        }
      ]
    },
    {
      "cell_type": "code",
      "source": [
        "event = three_coins[(three_coins['coin_1'] == 'H') &\n",
        "                    (three_coins['coin_2'] == 'H') &\n",
        "                    (three_coins['coin_3'] == 'H')]\n",
        "\n",
        "event"
      ],
      "metadata": {
        "colab": {
          "base_uri": "https://localhost:8080/",
          "height": 89
        },
        "id": "XQ1nxfEWGBvO",
        "outputId": "2e7cc85c-dd26-4561-8ece-b46fd7d72c68"
      },
      "execution_count": 3,
      "outputs": [
        {
          "output_type": "execute_result",
          "data": {
            "text/plain": [
              "  coin_1 coin_2 coin_3\n",
              "0      H      H      H"
            ],
            "text/html": [
              "\n",
              "  <div id=\"df-34a1fbd6-17a7-4f85-82aa-37c99b310f52\" class=\"colab-df-container\">\n",
              "    <div>\n",
              "<style scoped>\n",
              "    .dataframe tbody tr th:only-of-type {\n",
              "        vertical-align: middle;\n",
              "    }\n",
              "\n",
              "    .dataframe tbody tr th {\n",
              "        vertical-align: top;\n",
              "    }\n",
              "\n",
              "    .dataframe thead th {\n",
              "        text-align: right;\n",
              "    }\n",
              "</style>\n",
              "<table border=\"1\" class=\"dataframe\">\n",
              "  <thead>\n",
              "    <tr style=\"text-align: right;\">\n",
              "      <th></th>\n",
              "      <th>coin_1</th>\n",
              "      <th>coin_2</th>\n",
              "      <th>coin_3</th>\n",
              "    </tr>\n",
              "  </thead>\n",
              "  <tbody>\n",
              "    <tr>\n",
              "      <th>0</th>\n",
              "      <td>H</td>\n",
              "      <td>H</td>\n",
              "      <td>H</td>\n",
              "    </tr>\n",
              "  </tbody>\n",
              "</table>\n",
              "</div>\n",
              "    <div class=\"colab-df-buttons\">\n",
              "\n",
              "  <div class=\"colab-df-container\">\n",
              "    <button class=\"colab-df-convert\" onclick=\"convertToInteractive('df-34a1fbd6-17a7-4f85-82aa-37c99b310f52')\"\n",
              "            title=\"Convert this dataframe to an interactive table.\"\n",
              "            style=\"display:none;\">\n",
              "\n",
              "  <svg xmlns=\"http://www.w3.org/2000/svg\" height=\"24px\" viewBox=\"0 -960 960 960\">\n",
              "    <path d=\"M120-120v-720h720v720H120Zm60-500h600v-160H180v160Zm220 220h160v-160H400v160Zm0 220h160v-160H400v160ZM180-400h160v-160H180v160Zm440 0h160v-160H620v160ZM180-180h160v-160H180v160Zm440 0h160v-160H620v160Z\"/>\n",
              "  </svg>\n",
              "    </button>\n",
              "\n",
              "  <style>\n",
              "    .colab-df-container {\n",
              "      display:flex;\n",
              "      gap: 12px;\n",
              "    }\n",
              "\n",
              "    .colab-df-convert {\n",
              "      background-color: #E8F0FE;\n",
              "      border: none;\n",
              "      border-radius: 50%;\n",
              "      cursor: pointer;\n",
              "      display: none;\n",
              "      fill: #1967D2;\n",
              "      height: 32px;\n",
              "      padding: 0 0 0 0;\n",
              "      width: 32px;\n",
              "    }\n",
              "\n",
              "    .colab-df-convert:hover {\n",
              "      background-color: #E2EBFA;\n",
              "      box-shadow: 0px 1px 2px rgba(60, 64, 67, 0.3), 0px 1px 3px 1px rgba(60, 64, 67, 0.15);\n",
              "      fill: #174EA6;\n",
              "    }\n",
              "\n",
              "    .colab-df-buttons div {\n",
              "      margin-bottom: 4px;\n",
              "    }\n",
              "\n",
              "    [theme=dark] .colab-df-convert {\n",
              "      background-color: #3B4455;\n",
              "      fill: #D2E3FC;\n",
              "    }\n",
              "\n",
              "    [theme=dark] .colab-df-convert:hover {\n",
              "      background-color: #434B5C;\n",
              "      box-shadow: 0px 1px 3px 1px rgba(0, 0, 0, 0.15);\n",
              "      filter: drop-shadow(0px 1px 2px rgba(0, 0, 0, 0.3));\n",
              "      fill: #FFFFFF;\n",
              "    }\n",
              "  </style>\n",
              "\n",
              "    <script>\n",
              "      const buttonEl =\n",
              "        document.querySelector('#df-34a1fbd6-17a7-4f85-82aa-37c99b310f52 button.colab-df-convert');\n",
              "      buttonEl.style.display =\n",
              "        google.colab.kernel.accessAllowed ? 'block' : 'none';\n",
              "\n",
              "      async function convertToInteractive(key) {\n",
              "        const element = document.querySelector('#df-34a1fbd6-17a7-4f85-82aa-37c99b310f52');\n",
              "        const dataTable =\n",
              "          await google.colab.kernel.invokeFunction('convertToInteractive',\n",
              "                                                    [key], {});\n",
              "        if (!dataTable) return;\n",
              "\n",
              "        const docLinkHtml = 'Like what you see? Visit the ' +\n",
              "          '<a target=\"_blank\" href=https://colab.research.google.com/notebooks/data_table.ipynb>data table notebook</a>'\n",
              "          + ' to learn more about interactive tables.';\n",
              "        element.innerHTML = '';\n",
              "        dataTable['output_type'] = 'display_data';\n",
              "        await google.colab.output.renderOutput(dataTable, element);\n",
              "        const docLink = document.createElement('div');\n",
              "        docLink.innerHTML = docLinkHtml;\n",
              "        element.appendChild(docLink);\n",
              "      }\n",
              "    </script>\n",
              "  </div>\n",
              "\n",
              "\n",
              "  <div id=\"id_9fc4237a-a522-45f1-a89b-c578589fd0c5\">\n",
              "    <style>\n",
              "      .colab-df-generate {\n",
              "        background-color: #E8F0FE;\n",
              "        border: none;\n",
              "        border-radius: 50%;\n",
              "        cursor: pointer;\n",
              "        display: none;\n",
              "        fill: #1967D2;\n",
              "        height: 32px;\n",
              "        padding: 0 0 0 0;\n",
              "        width: 32px;\n",
              "      }\n",
              "\n",
              "      .colab-df-generate:hover {\n",
              "        background-color: #E2EBFA;\n",
              "        box-shadow: 0px 1px 2px rgba(60, 64, 67, 0.3), 0px 1px 3px 1px rgba(60, 64, 67, 0.15);\n",
              "        fill: #174EA6;\n",
              "      }\n",
              "\n",
              "      [theme=dark] .colab-df-generate {\n",
              "        background-color: #3B4455;\n",
              "        fill: #D2E3FC;\n",
              "      }\n",
              "\n",
              "      [theme=dark] .colab-df-generate:hover {\n",
              "        background-color: #434B5C;\n",
              "        box-shadow: 0px 1px 3px 1px rgba(0, 0, 0, 0.15);\n",
              "        filter: drop-shadow(0px 1px 2px rgba(0, 0, 0, 0.3));\n",
              "        fill: #FFFFFF;\n",
              "      }\n",
              "    </style>\n",
              "    <button class=\"colab-df-generate\" onclick=\"generateWithVariable('event')\"\n",
              "            title=\"Generate code using this dataframe.\"\n",
              "            style=\"display:none;\">\n",
              "\n",
              "  <svg xmlns=\"http://www.w3.org/2000/svg\" height=\"24px\"viewBox=\"0 0 24 24\"\n",
              "       width=\"24px\">\n",
              "    <path d=\"M7,19H8.4L18.45,9,17,7.55,7,17.6ZM5,21V16.75L18.45,3.32a2,2,0,0,1,2.83,0l1.4,1.43a1.91,1.91,0,0,1,.58,1.4,1.91,1.91,0,0,1-.58,1.4L9.25,21ZM18.45,9,17,7.55Zm-12,3A5.31,5.31,0,0,0,4.9,8.1,5.31,5.31,0,0,0,1,6.5,5.31,5.31,0,0,0,4.9,4.9,5.31,5.31,0,0,0,6.5,1,5.31,5.31,0,0,0,8.1,4.9,5.31,5.31,0,0,0,12,6.5,5.46,5.46,0,0,0,6.5,12Z\"/>\n",
              "  </svg>\n",
              "    </button>\n",
              "    <script>\n",
              "      (() => {\n",
              "      const buttonEl =\n",
              "        document.querySelector('#id_9fc4237a-a522-45f1-a89b-c578589fd0c5 button.colab-df-generate');\n",
              "      buttonEl.style.display =\n",
              "        google.colab.kernel.accessAllowed ? 'block' : 'none';\n",
              "\n",
              "      buttonEl.onclick = () => {\n",
              "        google.colab.notebook.generateWithVariable('event');\n",
              "      }\n",
              "      })();\n",
              "    </script>\n",
              "  </div>\n",
              "\n",
              "    </div>\n",
              "  </div>\n"
            ],
            "application/vnd.google.colaboratory.intrinsic+json": {
              "type": "dataframe",
              "variable_name": "event",
              "summary": "{\n  \"name\": \"event\",\n  \"rows\": 1,\n  \"fields\": [\n    {\n      \"column\": \"coin_1\",\n      \"properties\": {\n        \"dtype\": \"string\",\n        \"num_unique_values\": 1,\n        \"samples\": [\n          \"H\"\n        ],\n        \"semantic_type\": \"\",\n        \"description\": \"\"\n      }\n    },\n    {\n      \"column\": \"coin_2\",\n      \"properties\": {\n        \"dtype\": \"string\",\n        \"num_unique_values\": 1,\n        \"samples\": [\n          \"H\"\n        ],\n        \"semantic_type\": \"\",\n        \"description\": \"\"\n      }\n    },\n    {\n      \"column\": \"coin_3\",\n      \"properties\": {\n        \"dtype\": \"string\",\n        \"num_unique_values\": 1,\n        \"samples\": [\n          \"H\"\n        ],\n        \"semantic_type\": \"\",\n        \"description\": \"\"\n      }\n    }\n  ]\n}"
            }
          },
          "metadata": {},
          "execution_count": 3
        }
      ]
    },
    {
      "cell_type": "code",
      "source": [
        "len(event) / len(three_coins)"
      ],
      "metadata": {
        "colab": {
          "base_uri": "https://localhost:8080/"
        },
        "id": "W38drKEyeF1g",
        "outputId": "59d554b1-7957-4a86-9b01-7c1b90fd05ff"
      },
      "execution_count": 4,
      "outputs": [
        {
          "output_type": "execute_result",
          "data": {
            "text/plain": [
              "0.125"
            ]
          },
          "metadata": {},
          "execution_count": 4
        }
      ]
    },
    {
      "cell_type": "markdown",
      "source": [
        "$$\n",
        "\\mathbb{P}\\left(\\text{HHH}\\right) = \\frac{1}{8} = 0.125\n",
        "$$"
      ],
      "metadata": {
        "id": "ss936ikWG638"
      }
    },
    {
      "cell_type": "markdown",
      "source": [
        "#### Dice Example"
      ],
      "metadata": {
        "id": "wX5t8hyAeyRP"
      }
    },
    {
      "cell_type": "markdown",
      "source": [
        "When you roll a fair 6-sided dice what is the probability of a 6?\n",
        "\n",
        "$$\n",
        "\\mathbb{P}(6) = \\frac{1}{6} = 0.1\\dot{6}\n",
        "$$"
      ],
      "metadata": {
        "id": "Pd_LJuFje7HS"
      }
    },
    {
      "cell_type": "markdown",
      "source": [
        "When you roll two dice, what is the probability of getting two 6s?\n",
        "\n",
        "$$\n",
        "\\mathbb{P}(6, 6) = \\frac{1}{36}\n",
        "$$"
      ],
      "metadata": {
        "id": "xfx-as7rgkhR"
      }
    },
    {
      "cell_type": "markdown",
      "source": [
        "### 3.1.1.2 Complement of Probability"
      ],
      "metadata": {
        "id": "mwh8XpgvhmxI"
      }
    },
    {
      "cell_type": "markdown",
      "source": [
        "#### Complement Rule\n",
        "\n",
        "$$\n",
        "\\begin{align}\n",
        "\\mathbb{P}(A) &+ \\mathbb{P}{(A^{\\prime})} = 1 \\\\ \\\\\n",
        "\\mathbb{P}(A) &= 1 - \\mathbb{P}{(A^{\\prime})} \\\\\n",
        "\\mathbb{P}{(A^{\\prime})} &= 1 - \\mathbb{P}(A)\n",
        "\\end{align}\n",
        "$$"
      ],
      "metadata": {
        "id": "LwfAJLn4nXkf"
      }
    },
    {
      "cell_type": "markdown",
      "source": [
        "#### Example\n",
        "\n",
        "Whan flipping a coin three times, what is the probability of not obtaining 3 heads?\n",
        "\n",
        "$$\n",
        "\\begin{align}\n",
        "\\mathbb{P}\\left((HHH)^{\\prime}\\right) &= 1 - \\mathbb{P}\\left(HHH\\right) \\\\\n",
        "&= 1 - \\frac{1}{8} \\\\\n",
        "&= \\frac{7}{8}\n",
        "\\end{align}\n",
        "$$"
      ],
      "metadata": {
        "id": "VAelIyYDnbeW"
      }
    },
    {
      "cell_type": "markdown",
      "source": [
        "#### Dice Example\n",
        "\n",
        "You roll a dice. What is the probability of obtaining anything other than a 6?\n",
        "\n",
        "$$\n",
        "\\begin{align}\n",
        "\\mathbb{P}(6^{\\prime}) &= 1 - \\mathbb{P}(6) \\\\\n",
        "&= 1 - \\frac{1}{6} \\\\\n",
        "&= \\frac{5}{6}\n",
        "\\end{align}\n",
        "$$"
      ],
      "metadata": {
        "id": "lTB3BmZZpIWs"
      }
    },
    {
      "cell_type": "markdown",
      "source": [
        "### 3.1.1.3 Sum of Probabilities (Disjoint Events)"
      ],
      "metadata": {
        "id": "n57NzB6bwIn3"
      }
    },
    {
      "cell_type": "markdown",
      "source": [
        "#### Example"
      ],
      "metadata": {
        "id": "LSOqmMAI2TtH"
      }
    },
    {
      "cell_type": "markdown",
      "source": [
        "If you roll a dice, what is the probablity of getting a 2 or a 3?\n",
        "\n",
        "$$\n",
        "\\begin{align}\n",
        "\\mathbb{P}\\left(2\\cup3\\right) &= \\mathbb{P}\\left(2\\right) + \\mathbb{P}\\left(3\\right) \\\\\n",
        "&= \\frac{1}{6} + \\frac{1}{6} \\\\\n",
        "&= \\frac{1}{3}\n",
        "\\end{align}\n",
        "$$\n",
        "\n",
        "This addition only works if the events are disjoint."
      ],
      "metadata": {
        "id": "J_kKQuC9xu-k"
      }
    },
    {
      "cell_type": "markdown",
      "source": [
        "#### Example\n",
        "\n",
        "At a school, kids can **only play one sport**. The sport can be soccer or basketball. We are given the following:\n",
        "\n",
        "$$\n",
        "\\begin{align}\n",
        "\\mathbb{P}\\left(\\text{soccer}\\right) &= 0.3 \\\\\n",
        "\\mathbb{P}\\left(\\text{basketball}\\right) &= 0.4\n",
        "\\end{align}\n",
        "$$\n",
        "\n",
        "What is the probability that a kid plays soccer or basketball?\n",
        "\n",
        "$$\n",
        "\\begin{align}\n",
        "\\mathbb{P}\\left(\\text{soccer} \\cup \\text{basketball}\\right) &= \\mathbb{P}\\left(\\text{soccer}\\right) + \\mathbb{P}\\left(\\text{basketball}\\right) \\\\\n",
        "&= 0.3 + 0.4 \\\\\n",
        "&= 0.7\n",
        "\\end{align}\n",
        "$$\n",
        "\n",
        "<img src='https://raw.githubusercontent.com/PaulToronto/DeepLearning-AI---Mathematics-for-Machine-Learning-and-Data-Science/refs/heads/main/images/prob1.png'/>\n",
        "\n",
        "<img src='https://raw.githubusercontent.com/PaulToronto/DeepLearning-AI---Mathematics-for-Machine-Learning-and-Data-Science/refs/heads/main/images/prob2.png'/>\n",
        "\n"
      ],
      "metadata": {
        "id": "kwWC5oer2SYq"
      }
    },
    {
      "cell_type": "markdown",
      "source": [
        "#### Dice Example\n",
        "\n",
        "What is the probability of obtaining an even number or a 5?\n",
        "\n",
        "$$\n",
        "\\begin{align}\n",
        "\\mathbb{P}\\left(\\text{even} \\cup 5\\right) &= \\mathbb{P}\\left(\\text{even}\\right) + \\mathbb{P}\\left(5\\right)  \\\\\n",
        "&= \\frac{3}{6} + \\frac{1}{6} \\\\\n",
        "&= \\frac{2}{3}\n",
        "\\end{align}\n",
        "$$\n",
        "\n",
        "This only works because a number **can't be both even and a 5**. These two events are disjoint."
      ],
      "metadata": {
        "id": "-zO8lblG7AI0"
      }
    },
    {
      "cell_type": "markdown",
      "source": [
        "#### Dice Example\n",
        "\n",
        "Roll two dice. What is the probability of obtaining a sum of 7 or a sum of 10?\n",
        "\n",
        "$$\n",
        "\\begin{align}\n",
        "\\mathbb{P}\\left(\\text{(sum 7)} \\cup \\text{(sum 10)}\\right) &= \\mathbb{P}\\left(\\text{sum 7}\\right) + \\mathbb{P}\\left(\\text{sum 10}\\right) \\\\\n",
        "&= \\frac{6}{36} + \\frac{3}{36} \\\\\n",
        "&= \\frac{9}{36} \\\\\n",
        "&= \\frac{1}{4}\n",
        "\\end{align}\n",
        "$$"
      ],
      "metadata": {
        "id": "7m7TA2uD9tPl"
      }
    },
    {
      "cell_type": "markdown",
      "source": [
        "#### Dice Example\n",
        "\n",
        "Roll two dice. What is the probability of obtaining a difference of 2 or a differnce of 1?\n",
        "\n",
        "$$\n",
        "\\begin{align}\n",
        "\\mathbb{P}\\left(\\text{(diff 2)} \\cup \\text{(diff 1)}\\right) &= \\frac{8}{36} + \\frac{10}{36} \\\\\n",
        "&= \\frac{18}{36} \\\\\n",
        "&= \\frac{1}{2}\n",
        "\\end{align}\n",
        "$$"
      ],
      "metadata": {
        "id": "ZC-U36YtnDwP"
      }
    },
    {
      "cell_type": "markdown",
      "source": [
        "#### Sum Rule for Disjoint Events (Mutually exclusive)\n",
        "\n",
        "$$\n",
        "\\begin{align}\n",
        "\\mathbb{P}\\left(A \\cup B\\right) = \\mathbb{P}\\left(A\\right) + \\mathbb{P}\\left(B\\right)\n",
        "\\end{align}\n",
        "$$"
      ],
      "metadata": {
        "id": "T9uD0ykimcin"
      }
    },
    {
      "cell_type": "markdown",
      "source": [
        "### 3.1.1.4 Sum of Probabilities (Joint Events)"
      ],
      "metadata": {
        "id": "7Yn0TnX8oq9b"
      }
    },
    {
      "cell_type": "markdown",
      "source": [
        "The probability of rain is 0.8 and the probability of windy is 0.7.\n",
        "\n",
        "$$\n",
        "\\begin{align}\n",
        "\\mathbb{P}\\left(\\text{rain}\\right) &= 0.8 \\\\\n",
        "\\mathbb{P}\\left(\\text{wind}\\right) &= 0.7\n",
        "\\end{align}\n",
        "$$\n",
        "\n",
        "What is $\\mathbb{P}\\left(\\text{rain} \\cup \\text{wind}\\right)$?\n",
        "\n",
        "If we add them together as we did before, we get $1.5$, but that is greater than $1$ so that can't be right. It doesn't work because the events are **not disjoint**. It is possible to have both rain and wind at the same time.\n",
        "\n"
      ],
      "metadata": {
        "id": "Py-_EQ9ZkgcB"
      }
    },
    {
      "cell_type": "markdown",
      "source": [
        "#### Example\n",
        "\n",
        "\n",
        "At a school, kids can **play as many sports as he wants**. We are given the following:\n",
        "\n",
        "$$\n",
        "\\begin{align}\n",
        "\\mathbb{P}\\left(\\text{soccer}\\right) &= 0.6 \\\\\n",
        "\\mathbb{P}\\left(\\text{basketball}\\right) &= 0.5\n",
        "\\end{align}\n",
        "$$\n",
        "\n",
        "What is the probability that a kid plays soccer or basketball?\n",
        "\n",
        "At this point, we don't have enough information to answer the question.\n",
        "\n",
        "<img src='https://raw.githubusercontent.com/PaulToronto/DeepLearning-AI---Mathematics-for-Machine-Learning-and-Data-Science/refs/heads/main/images/soccer.png'/>\n",
        "\n",
        "$$\n",
        "\\mathbb{P}\\left(\\text{soccer} \\cup \\text{basketball}\\right) = \\mathbb{P}\\left(\\text{soccer}\\right) + \\mathbb{P}\\left(\\text{basketball}\\right) - \\mathbb{P}\\left(\\text{soccer} \\cap \\text{basketball}\\right)\n",
        "$$\n",
        "\n",
        "To solve this, we need to know the value of $\\mathbb{P}\\left(\\text{soccer} \\cap \\text{basketball}\\right) $"
      ],
      "metadata": {
        "id": "fYWzuXwaoaSB"
      }
    },
    {
      "cell_type": "markdown",
      "source": [
        "#### Example\n",
        "\n",
        "6 kids play soccer, 5 kids play basketball and 3 kids play both soccer and basketball.\n",
        "\n",
        "How many kids play soccer or basketball?\n",
        "\n",
        "$$\n",
        "6 + 5 - 3 = 8\n",
        "$$\n",
        "\n",
        "<img src='https://raw.githubusercontent.com/PaulToronto/DeepLearning-AI---Mathematics-for-Machine-Learning-and-Data-Science/refs/heads/main/images/venn2.png'/>\n",
        "\n",
        "$$\n",
        "\\begin{align}\n",
        "\\left|S \\cup B\\right| &= \\left|S\\right| + \\left|B\\right| - \\left|S \\cap B\\right| \\\\\n",
        "&= 6 + 5 - 3 \\\\\n",
        "&= 8\n",
        "\\end{align}\n",
        "$$\n",
        "\n",
        "This is also known as the **inclusion-exclusion principle**."
      ],
      "metadata": {
        "id": "-uWZOrB4r_B1"
      }
    },
    {
      "cell_type": "markdown",
      "source": [
        "#### Example\n",
        "\n",
        "At a school, kids can **play as many sports as he wants**. We are given the following:\n",
        "\n",
        "$$\n",
        "\\begin{align}\n",
        "\\mathbb{P}\\left(\\text{soccer}\\right) &= 0.6 \\\\\n",
        "\\mathbb{P}\\left(\\text{basketball}\\right) &= 0.5 \\\\\n",
        "\\mathbb{P}\\left(\\text{soccer} \\cap \\text{basketball}\\right) &= 0.3\n",
        "\\end{align}\n",
        "$$\n",
        "\n",
        "What is the probability that kid plays soccer or basketball?\n",
        "\n",
        "$$\n",
        "\\begin{align}\n",
        "\\mathbb{P}\\left(\\text{soccer} \\cup \\text{basketball}\\right) &= \\mathbb{P}\\left(\\text{soccer}\\right) + \\mathbb{P}\\left(\\text{basketball}\\right) - \\mathbb{P}\\left(\\text{soccer} \\cap \\text{basketball}\\right) \\\\\n",
        "&= 0.6 + 0.5 - 0.3 \\\\\n",
        "&= 0.8\n",
        "\\end{align}\n",
        "$$\n"
      ],
      "metadata": {
        "id": "uNxrdiuyvwI0"
      }
    },
    {
      "cell_type": "markdown",
      "source": [
        "#### Sum Rule for Joint Events (Non-mutually exclusive)\n",
        "\n",
        "$$\n",
        "\\begin{align}\n",
        "\\mathbb{P}\\left(A \\cup B\\right) = \\mathbb{P}\\left(A\\right) + \\mathbb{P}\\left(B\\right) - \\mathbb{P}\\left(A \\cap B\\right)\n",
        "\\end{align}\n",
        "$$"
      ],
      "metadata": {
        "id": "T73WbwXWy__0"
      }
    },
    {
      "cell_type": "markdown",
      "source": [
        "#### Dice Example\n",
        "\n",
        "What is teh probability of obtaining a sum of 7 or a difference of 1?\n",
        "\n",
        "$$\n",
        "\\begin{align}\n",
        "\\mathbb{P}\\left(\\text{sum7} \\cup \\text{diff1}\\right) &= \\mathbb{P}\\left(\\text{sum7}\\right) + \\mathbb{P}\\left(\\text{diff1}\\right) - \\mathbb{P}\\left(\\text{sum7} \\cap \\text{diff1}\\right) \\\\\n",
        "&= \\frac{6}{36} + \\frac{10}{36} - \\frac{2}{36} \\\\\n",
        "&= \\frac{14}{36} \\\\\n",
        "&= \\frac{7}{18}\n",
        "\\end{align}\n",
        "$$"
      ],
      "metadata": {
        "id": "00SpB7kH0bW_"
      }
    },
    {
      "cell_type": "markdown",
      "source": [
        "### 3.1.1.5 Independence"
      ],
      "metadata": {
        "id": "LOBn50lg2Xbu"
      }
    },
    {
      "cell_type": "markdown",
      "source": [
        "If I toss a coin twice, the outcome of the first toss has no effect on the outcome of the second toss. On the other hand, if I'm playing chess, what happened on the $10^{\\text{th}}$ move does affect what happens on the $11^{\\text{th}}$ move.\n",
        "\n",
        "Understanding **independence** helps us simplify calculations."
      ],
      "metadata": {
        "id": "i41GLBgK3K5p"
      }
    },
    {
      "cell_type": "markdown",
      "source": [
        "#### Example\n",
        "\n",
        "A school has 100 kids. 50 of them like playing soccer and the other 50 don't like playing soccer. The kids are randomly split into two equal groups of size 50. Based on this, what is your estimate of the number of kids in group 1 who would like soccer?\n",
        "\n",
        "My answer: 25"
      ],
      "metadata": {
        "id": "zPKgw1iO5CKH"
      }
    },
    {
      "cell_type": "markdown",
      "source": [
        "#### Example\n",
        "\n",
        "In a school of 100 kids, 40 of them like soccer and 60 don't. Again, the kids are randomly split into two groups. Group 1 has 30 kids and Group 2 has 70.\n",
        "\n",
        "What is your best estimate about how many kids in Group 1 like to play soccer?\n",
        "\n",
        "My answer: $0.4 \\times 30 = 12$\n",
        "\n",
        "$$\n",
        "\\begin{align}\n",
        "\\mathbb{P}\\left(\\text{soccer} \\cap \\text{group1}\\right) &= \\mathbb{P}\\left(\\text{soccer}\\right) \\cdot \\mathbb{P}\\left(\\text{group1}\\right) \\\\\n",
        "&= 0.4 \\cdot 0.3 \\\\\n",
        "&= 0.12\n",
        "\\end{align}\n",
        "$$"
      ],
      "metadata": {
        "id": "U-Ugkr-j7ElR"
      }
    },
    {
      "cell_type": "markdown",
      "source": [
        "#### Product Rule (for Independent Events)\n",
        "\n",
        "$$\n",
        "\\mathbb{P}\\left(A \\cap B\\right) = \\mathbb{P}\\left(A\\right) \\cdot \\mathbb{P}\\left(B\\right)\n",
        "$$"
      ],
      "metadata": {
        "id": "dcWwXCfl-Bfl"
      }
    },
    {
      "cell_type": "markdown",
      "source": [
        "#### Coin Example\n",
        "\n",
        "Consider tossing a fair coin 5 times. What is the probability that the coin lands on heads all 5 times?\n",
        "\n",
        "$$\n",
        "\\begin{align}\n",
        "\\mathbb{P}\\left(\\text{5heads}\\right) &= \\left(\\frac{1}{2}\\right)^{5} \\\\\n",
        "&= \\frac{1}{32}\n",
        "\\end{align}\n",
        "$$"
      ],
      "metadata": {
        "id": "ENU0gytK-xiA"
      }
    },
    {
      "cell_type": "markdown",
      "source": [
        "#### Dice Example\n",
        "\n",
        "When two dice are rolled, what is the probability of obtaining two sixes?\n",
        "\n",
        "$$\n",
        "\\begin{align}\n",
        "\\mathbb{P}\\left(\\text{2_sixes}\\right) &= \\frac{1}{6} \\cdot \\frac{1}{6} \\\\\n",
        "&= \\frac{1}{36}\n",
        "\\end{align}\n",
        "$$"
      ],
      "metadata": {
        "id": "aAc074nd_4kg"
      }
    },
    {
      "cell_type": "markdown",
      "source": [
        "#### Dice Example\n",
        "\n",
        "If you roll a fair die 10 times, what is the probabilty of getting 10 sixes?\n",
        "\n",
        "$$\n",
        "\\begin{align}\n",
        "\\mathbb{P}\\left(\\text{10_sixes}\\right) &= \\left(\\frac{1}{6}\\right)^{10} \\\\\n",
        "&= \\frac{1}{60466176}\n",
        "\\end{align}\n",
        "$$"
      ],
      "metadata": {
        "id": "Iu3kVdrzCzHN"
      }
    },
    {
      "cell_type": "markdown",
      "source": [
        "### 3.1.1.6 Birthday Problem"
      ],
      "metadata": {
        "id": "U_JkBhCLD3Qi"
      }
    }
  ]
}