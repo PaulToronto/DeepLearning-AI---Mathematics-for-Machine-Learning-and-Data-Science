{
  "nbformat": 4,
  "nbformat_minor": 0,
  "metadata": {
    "colab": {
      "provenance": [],
      "toc_visible": true,
      "authorship_tag": "ABX9TyPQjc0MtyREq5COFHymOyfC",
      "include_colab_link": true
    },
    "kernelspec": {
      "name": "python3",
      "display_name": "Python 3"
    },
    "language_info": {
      "name": "python"
    }
  },
  "cells": [
    {
      "cell_type": "markdown",
      "metadata": {
        "id": "view-in-github",
        "colab_type": "text"
      },
      "source": [
        "<a href=\"https://colab.research.google.com/github/PaulToronto/DeepLearning-AI---Mathematics-for-Machine-Learning-and-Data-Science/blob/main/3_1_Introduction_to_Probability_and_Probability_Distributions.ipynb\" target=\"_parent\"><img src=\"https://colab.research.google.com/assets/colab-badge.svg\" alt=\"Open In Colab\"/></a>"
      ]
    },
    {
      "cell_type": "markdown",
      "source": [
        "# 3.1 Introduction to Probability and Probability Distributions"
      ],
      "metadata": {
        "id": "6C8Aa9fW2j38"
      }
    },
    {
      "cell_type": "markdown",
      "source": [
        "## 3.1.1 What is Probability?\n",
        "\n",
        "**Probability** is a measure of how likely and event is to occur.\n",
        "\n"
      ],
      "metadata": {
        "id": "XvHLZogs2wJc"
      }
    },
    {
      "cell_type": "markdown",
      "source": [
        "### Example\n",
        "\n",
        "You are in a school with 10 kids and you randomly pick a kid. 3 of them play soccer and 7 of them don't. What is the probability that you will pick a kid who plays soccer?\n",
        "\n",
        "$$\n",
        "\\mathbb{P}\\left(\\text{soccer}\\right) = \\frac{\\text{soccer}}{\\text{total}} = \\frac{3}{10} = 0.3\n",
        "$$\n",
        "\n",
        "The numerator corresponds to the **event**, that's the size of the event. The denominatory corresponds to the size of the **sample space**, the total number of possible outcomes.\n",
        "\n",
        "Here is a Venn diagram:\n",
        "\n",
        "<img src='https://raw.githubusercontent.com/PaulToronto/DeepLearning-AI---Mathematics-for-Machine-Learning-and-Data-Science/refs/heads/main/images/venn.png'/>"
      ],
      "metadata": {
        "id": "JK9SgI_k7lpp"
      }
    }
  ]
}